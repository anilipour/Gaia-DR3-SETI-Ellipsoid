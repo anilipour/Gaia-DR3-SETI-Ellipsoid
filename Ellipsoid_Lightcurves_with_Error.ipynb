{
 "cells": [
  {
   "cell_type": "markdown",
   "metadata": {},
   "source": [
    "# Ellipsoid Lightcurves\n",
    "\n",
    "This notebook is used for viewing the light curves of stars that have crossed the SETI Ellipsoid during Gaia's observation run."
   ]
  },
  {
   "cell_type": "code",
   "execution_count": 1,
   "metadata": {},
   "outputs": [],
   "source": [
    "%matplotlib inline\n",
    "\n",
    "import matplotlib.pyplot as plt\n",
    "import numpy as np\n",
    "\n",
    "from astropy.coordinates import SkyCoord\n",
    "import astropy.coordinates as coord\n",
    "from astropy import constants as const\n",
    "from astropy import units as u\n",
    "from astropy.time import Time\n",
    "from astropy.table import Table, QTable, vstack\n",
    "import os\n",
    "\n",
    "from astroquery.gaia import Gaia\n",
    "\n",
    "import ellipsoid\n",
    "\n",
    "from astropy.timeseries import LombScargle, TimeSeries\n",
    "import random"
   ]
  },
  {
   "cell_type": "markdown",
   "metadata": {},
   "source": [
    "### Read in the desired file and set global parameters\n",
    "If using the ```ellipsoid.py``` script to download Gaia data, the file names are:\n",
    "\n",
    "```GCNS_var``` -- variable stars in GCNS\n",
    "\n",
    "```Gaia_var``` -- variable stars in Gaia DR3\n",
    "\n",
    "```GCNS``` -- stars in GCNS\n",
    "\n",
    "```Gaia``` -- stars in Gaia DR3\n",
    "\n",
    "The tolerance is in lightyears, and the default start time is the time of the first Gaia alert"
   ]
  },
  {
   "cell_type": "code",
   "execution_count": 2,
   "metadata": {},
   "outputs": [],
   "source": [
    "file_name = 'Gaia_var_class'\n",
    "c1, stars = ellipsoid.readFile(file_name)\n",
    "tol = 0.1"
   ]
  },
  {
   "cell_type": "markdown",
   "metadata": {},
   "source": [
    "The default event (i.e. the second focal point of the SETI Ellipsoid) is SN 1987A by default, and its parameters are set below"
   ]
  },
  {
   "cell_type": "code",
   "execution_count": 3,
   "metadata": {},
   "outputs": [],
   "source": [
    "#Properties of SN1987A\n",
    "t0 = Time({'year': 1987, 'month': 2, 'day': 23}, format='ymdhms')\n",
    "\n",
    "c0_radec = SkyCoord.from_name('SN 1987A')\n",
    "\n",
    "# Panagia (1999) https://ui.adsabs.harvard.edu/abs/1999IAUS..190..549P/abstract\n",
    "d0 = 51.4 * u.kpc\n",
    "d0_err = 1.2 * u.kpc\n",
    "\n",
    "c0 = SkyCoord(ra=c0_radec.ra, dec=c0_radec.dec, distance=d0)"
   ]
  },
  {
   "cell_type": "code",
   "execution_count": 4,
   "metadata": {},
   "outputs": [
    {
     "data": {
      "text/plain": [
       "9322432"
      ]
     },
     "execution_count": 4,
     "metadata": {},
     "output_type": "execute_result"
    }
   ],
   "source": [
    "len(c1)"
   ]
  },
  {
   "cell_type": "markdown",
   "metadata": {},
   "source": [
    "### Get table of crossing stars\n",
    "\n",
    "```c1_x``` contains astropy SkyCoord objects of each star that has crossed (within some tolerance) the ellipsoid since the start time\n",
    "\n",
    "```stars_x``` is a table with all the relevant information for each of the stars"
   ]
  },
  {
   "cell_type": "code",
   "execution_count": 5,
   "metadata": {},
   "outputs": [],
   "source": [
    "import importlib"
   ]
  },
  {
   "cell_type": "code",
   "execution_count": 6,
   "metadata": {},
   "outputs": [
    {
     "data": {
      "text/plain": [
       "<module 'ellipsoid' from '/mnt_home/anilipour/setiellipsoid/Gaia-DR3-SETI-Ellipsoid/ellipsoid.py'>"
      ]
     },
     "execution_count": 6,
     "metadata": {},
     "output_type": "execute_result"
    }
   ],
   "source": [
    "importlib.reload(ellipsoid)"
   ]
  },
  {
   "cell_type": "code",
   "execution_count": 7,
   "metadata": {},
   "outputs": [
    {
     "name": "stdout",
     "output_type": "stream",
     "text": [
      "[      nan 4742.113  6766.8394 ... 1992.0239 3834.7354 8922.597 ]\n",
      "217 stars have crossed the ellipsoid during Gaia DR3 data collection time\n"
     ]
    }
   ],
   "source": [
    "c1_x, stars_x = ellipsoid.crossErrorEllipsoid(c0, t0, c1, stars, tol)\n",
    "print(f'{len(stars_x)} stars have crossed the ellipsoid during Gaia DR3 data collection time')"
   ]
  },
  {
   "cell_type": "markdown",
   "metadata": {},
   "source": [
    "### Login to Gaia archive\n",
    "\n",
    "Creating and logging into a Gaia archive account allows for larger data downloads\n",
    "\n",
    "You can register here:\n",
    "https://www.cosmos.esa.int/web/gaia-users/register"
   ]
  },
  {
   "cell_type": "code",
   "execution_count": 8,
   "metadata": {
    "scrolled": true
   },
   "outputs": [
    {
     "name": "stdout",
     "output_type": "stream",
     "text": [
      "INFO: Login to gaia TAP server [astroquery.gaia.core]\n",
      "User: anilipou\n",
      "Password: ········\n",
      "OK\n",
      "INFO: Login to gaia data server [astroquery.gaia.core]\n",
      "OK\n"
     ]
    }
   ],
   "source": [
    "Gaia.login()"
   ]
  },
  {
   "cell_type": "markdown",
   "metadata": {},
   "source": [
    "### Split the desired stars into chunks of =< 5000 (if needed)\n",
    "\n",
    "Datalink, the protocol Gaia uses for ancillary data such as epoch photometry and spectra, can only retrieve data for up to 5000 sources at a time. This threshold is overcome by splitting the input into chunks of size =< 5000 sources."
   ]
  },
  {
   "cell_type": "code",
   "execution_count": 9,
   "metadata": {},
   "outputs": [],
   "source": [
    "def chunks(lst, n):\n",
    "    \"\"\n",
    "    \"Split an input list into multiple chunks of size =< n\"\n",
    "    \"\"\n",
    "    for i in range(0, len(lst), n):\n",
    "        yield lst[i:i + n]"
   ]
  },
  {
   "cell_type": "code",
   "execution_count": 10,
   "metadata": {},
   "outputs": [
    {
     "name": "stdout",
     "output_type": "stream",
     "text": [
      "* Input list contains 217 source_IDs\n",
      "* This list is split into 1 chunks of <= 5000 elements each\n"
     ]
    }
   ],
   "source": [
    "dl_threshold = 5000               # DataLink server threshold. It is not possible to download products for more than 5000 sources in one single call.\n",
    "ids          = stars_x['id']\n",
    "ids_chunks   = list(chunks(ids, dl_threshold))\n",
    "datalink_all = []\n",
    "\n",
    "\n",
    "print(f'* Input list contains {len(ids)} source_IDs')\n",
    "print(f'* This list is split into {len(ids_chunks)} chunks of <= {dl_threshold} elements each')"
   ]
  },
  {
   "cell_type": "markdown",
   "metadata": {},
   "source": [
    "### Get lightcurves\n",
    "\n",
    "When downloading, light curves will all be in one table (merged).\n",
    "\n",
    "Can also save and read light curve tables once downloaded."
   ]
  },
  {
   "cell_type": "code",
   "execution_count": 11,
   "metadata": {
    "scrolled": true
   },
   "outputs": [
    {
     "name": "stdout",
     "output_type": "stream",
     "text": [
      "Downloading Chunk #1; N_files = 217\n"
     ]
    }
   ],
   "source": [
    "retrieval_type = 'EPOCH_PHOTOMETRY'        # Options are: 'EPOCH_PHOTOMETRY', 'MCMC_GSPPHOT', 'MCMC_MSC', 'XP_SAMPLED', 'XP_CONTINUOUS', 'RVS' \n",
    "data_structure = 'COMBINED'   # Options are: 'INDIVIDUAL', 'COMBINED', 'RAW' - but as explained above, we strongly recommend to use COMBINED for massive downloads.\n",
    "data_release   = 'Gaia DR3'   # Options are: 'Gaia DR3' (default), 'Gaia DR2'\n",
    "dl_key         = f'{retrieval_type}_{data_structure}.xml'\n",
    "\n",
    "\n",
    "ii = 0\n",
    "for chunk in ids_chunks:\n",
    "    ii = ii + 1\n",
    "    print(f'Downloading Chunk #{ii}; N_files = {len(chunk)}')\n",
    "    datalink  = Gaia.load_data(ids=chunk, data_release = data_release, retrieval_type=retrieval_type, format = 'votable', data_structure = data_structure)\n",
    "    datalink_all.append(datalink)"
   ]
  },
  {
   "cell_type": "code",
   "execution_count": 12,
   "metadata": {},
   "outputs": [],
   "source": [
    "temp = [inp[dl_key][0].to_table() for inp in datalink_all]\n",
    "merged = vstack(temp)"
   ]
  },
  {
   "cell_type": "markdown",
   "metadata": {},
   "source": [
    "Save downloaded table"
   ]
  },
  {
   "cell_type": "code",
   "execution_count": 13,
   "metadata": {},
   "outputs": [],
   "source": [
    "merged_sf = '../GCNS_var_lc.xml'\n",
    "\n",
    "if os.path.exists(merged_sf):\n",
    "    os.remove(merged_sf)    \n",
    "QTable(merged).write(merged_sf, format='votable')"
   ]
  },
  {
   "cell_type": "markdown",
   "metadata": {},
   "source": [
    "Read saved table"
   ]
  },
  {
   "cell_type": "code",
   "execution_count": 14,
   "metadata": {},
   "outputs": [
    {
     "name": "stderr",
     "output_type": "stream",
     "text": [
      "WARNING: UnitsWarning: Unit 'electron' not supported by the VOUnit standard.  [astropy.units.format.vounit]\n"
     ]
    }
   ],
   "source": [
    "lc_merged = QTable.read(merged_sf, format='votable')"
   ]
  },
  {
   "cell_type": "markdown",
   "metadata": {},
   "source": [
    "### Make dictionaries for each band\n",
    "\n",
    "Each source is observed in three bands by Gaia (G, RP, BP), so here we create a dictionary for each band, with the keys equal to the source IDs and the values equal to the light curve table for that source and band"
   ]
  },
  {
   "cell_type": "code",
   "execution_count": 15,
   "metadata": {},
   "outputs": [],
   "source": [
    "glcDict = {}\n",
    "bplcDict = {}\n",
    "rplcDict = {}"
   ]
  },
  {
   "cell_type": "code",
   "execution_count": 16,
   "metadata": {},
   "outputs": [],
   "source": [
    "for sid in ids:\n",
    "    glc, bplc, rplc = ellipsoid.getLC(lc_merged, sid, 'G'), ellipsoid.getLC(lc_merged, sid, 'BP'), ellipsoid.getLC(lc_merged, sid, 'RP')\n",
    "    glcDict[str(sid)], bplcDict[str(sid)], rplcDict[str(sid)] = glc, bplc, rplc"
   ]
  },
  {
   "cell_type": "markdown",
   "metadata": {},
   "source": [
    "### Pick random light curve(s) and plot\n",
    "\n",
    "Here, one or many random source IDs are selected, and their light curves are plotted, as well as a vertical line indicating the ellipsoid crossing time."
   ]
  },
  {
   "cell_type": "code",
   "execution_count": 17,
   "metadata": {},
   "outputs": [],
   "source": [
    "lcChoice = random.choice(list(glcDict.keys()))"
   ]
  },
  {
   "cell_type": "code",
   "execution_count": 55,
   "metadata": {},
   "outputs": [],
   "source": [
    "lcChoices = random.sample(list(glcDict.keys()), k=25)"
   ]
  },
  {
   "cell_type": "code",
   "execution_count": 60,
   "metadata": {},
   "outputs": [],
   "source": [
    "idMask = np.in1d(stars['id'], [int(i) for i in lcChoices])"
   ]
  },
  {
   "cell_type": "code",
   "execution_count": 61,
   "metadata": {},
   "outputs": [
    {
     "data": {
      "text/html": [
       "<div><i>Table length=25</i>\n",
       "<table id=\"table139694787262736\" class=\"table-striped table-bordered table-condensed\">\n",
       "<thead><tr><th>id</th><th>class</th></tr></thead>\n",
       "<thead><tr><th>int64</th><th>bytes30</th></tr></thead>\n",
       "<tr><td>5277882523178810112</td><td>SOLAR_LIKE</td></tr>\n",
       "<tr><td>5085376179094311680</td><td>SOLAR_LIKE</td></tr>\n",
       "<tr><td>5793290899490805888</td><td>ECL</td></tr>\n",
       "<tr><td>5506407837394491520</td><td>SOLAR_LIKE</td></tr>\n",
       "<tr><td>6403254252120730368</td><td>SOLAR_LIKE</td></tr>\n",
       "<tr><td>4735864518071025920</td><td>SOLAR_LIKE</td></tr>\n",
       "<tr><td>5768215780897748736</td><td>SOLAR_LIKE</td></tr>\n",
       "<tr><td>5768263884531936256</td><td>SOLAR_LIKE</td></tr>\n",
       "<tr><td>5328273931361720576</td><td>SOLAR_LIKE</td></tr>\n",
       "<tr><td>4837622639891346048</td><td>SOLAR_LIKE</td></tr>\n",
       "<tr><td>5320197571771732480</td><td>SOLAR_LIKE</td></tr>\n",
       "<tr><td>4783920602205336064</td><td>SOLAR_LIKE</td></tr>\n",
       "<tr><td>5620763437599189376</td><td>WD</td></tr>\n",
       "<tr><td>6344155124169760896</td><td>SOLAR_LIKE</td></tr>\n",
       "<tr><td>4699581154046524288</td><td>SOLAR_LIKE</td></tr>\n",
       "<tr><td>5339149132208794624</td><td>SOLAR_LIKE</td></tr>\n",
       "<tr><td>4799017893287406336</td><td>SOLAR_LIKE</td></tr>\n",
       "<tr><td>4802947444765742848</td><td>RS</td></tr>\n",
       "<tr><td>5249005289084530176</td><td>SOLAR_LIKE</td></tr>\n",
       "<tr><td>5569760288635073792</td><td>SOLAR_LIKE</td></tr>\n",
       "<tr><td>4742424071300057216</td><td>SOLAR_LIKE</td></tr>\n",
       "<tr><td>4748331884715057280</td><td>SOLAR_LIKE</td></tr>\n",
       "<tr><td>6355427660974875776</td><td>SOLAR_LIKE</td></tr>\n",
       "<tr><td>5515089718649940480</td><td>SOLAR_LIKE</td></tr>\n",
       "<tr><td>4978872431946648192</td><td>SOLAR_LIKE</td></tr>\n",
       "</table></div>"
      ],
      "text/plain": [
       "<Table length=25>\n",
       "         id           class   \n",
       "       int64         bytes30  \n",
       "------------------- ----------\n",
       "5277882523178810112 SOLAR_LIKE\n",
       "5085376179094311680 SOLAR_LIKE\n",
       "5793290899490805888        ECL\n",
       "5506407837394491520 SOLAR_LIKE\n",
       "6403254252120730368 SOLAR_LIKE\n",
       "4735864518071025920 SOLAR_LIKE\n",
       "5768215780897748736 SOLAR_LIKE\n",
       "5768263884531936256 SOLAR_LIKE\n",
       "5328273931361720576 SOLAR_LIKE\n",
       "4837622639891346048 SOLAR_LIKE\n",
       "5320197571771732480 SOLAR_LIKE\n",
       "4783920602205336064 SOLAR_LIKE\n",
       "5620763437599189376         WD\n",
       "6344155124169760896 SOLAR_LIKE\n",
       "4699581154046524288 SOLAR_LIKE\n",
       "5339149132208794624 SOLAR_LIKE\n",
       "4799017893287406336 SOLAR_LIKE\n",
       "4802947444765742848         RS\n",
       "5249005289084530176 SOLAR_LIKE\n",
       "5569760288635073792 SOLAR_LIKE\n",
       "4742424071300057216 SOLAR_LIKE\n",
       "4748331884715057280 SOLAR_LIKE\n",
       "6355427660974875776 SOLAR_LIKE\n",
       "5515089718649940480 SOLAR_LIKE\n",
       "4978872431946648192 SOLAR_LIKE"
      ]
     },
     "execution_count": 61,
     "metadata": {},
     "output_type": "execute_result"
    }
   ],
   "source": [
    "stars[idMask]['id', 'class']"
   ]
  },
  {
   "cell_type": "markdown",
   "metadata": {},
   "source": [
    "The Gaia archive is again queried to get the Gaia variable classification"
   ]
  },
  {
   "cell_type": "code",
   "execution_count": 62,
   "metadata": {},
   "outputs": [
    {
     "name": "stdout",
     "output_type": "stream",
     "text": [
      "INFO: Query finished. [astroquery.utils.tap.core]\n",
      "Source 5506407837394491520 has variable classification SOLAR_LIKE\n"
     ]
    }
   ],
   "source": [
    "lcClass = ellipsoid.varClass(lcChoice)\n",
    "print(f'Source {lcChoice} has variable classification {lcClass[0]}')"
   ]
  },
  {
   "cell_type": "code",
   "execution_count": 63,
   "metadata": {
    "scrolled": false
   },
   "outputs": [
    {
     "name": "stdout",
     "output_type": "stream",
     "text": [
      "INFO: Query finished. [astroquery.utils.tap.core]\n"
     ]
    },
    {
     "data": {
      "text/html": [
       "<div><i>Table length=25</i>\n",
       "<table id=\"table139694785144208\" class=\"table-striped table-bordered table-condensed\">\n",
       "<thead><tr><th>best_class_name</th><th>source_id</th></tr></thead>\n",
       "<thead><tr><th>bytes30</th><th>int64</th></tr></thead>\n",
       "<tr><td>SOLAR_LIKE</td><td>4699581154046524288</td></tr>\n",
       "<tr><td>SOLAR_LIKE</td><td>4735864518071025920</td></tr>\n",
       "<tr><td>SOLAR_LIKE</td><td>4742424071300057216</td></tr>\n",
       "<tr><td>SOLAR_LIKE</td><td>4748331884715057280</td></tr>\n",
       "<tr><td>SOLAR_LIKE</td><td>4783920602205336064</td></tr>\n",
       "<tr><td>SOLAR_LIKE</td><td>4799017893287406336</td></tr>\n",
       "<tr><td>RS</td><td>4802947444765742848</td></tr>\n",
       "<tr><td>SOLAR_LIKE</td><td>4837622639891346048</td></tr>\n",
       "<tr><td>SOLAR_LIKE</td><td>4978872431946648192</td></tr>\n",
       "<tr><td>SOLAR_LIKE</td><td>5085376179094311680</td></tr>\n",
       "<tr><td>SOLAR_LIKE</td><td>5249005289084530176</td></tr>\n",
       "<tr><td>SOLAR_LIKE</td><td>5277882523178810112</td></tr>\n",
       "<tr><td>SOLAR_LIKE</td><td>5320197571771732480</td></tr>\n",
       "<tr><td>SOLAR_LIKE</td><td>5328273931361720576</td></tr>\n",
       "<tr><td>SOLAR_LIKE</td><td>5339149132208794624</td></tr>\n",
       "<tr><td>SOLAR_LIKE</td><td>5506407837394491520</td></tr>\n",
       "<tr><td>SOLAR_LIKE</td><td>5515089718649940480</td></tr>\n",
       "<tr><td>SOLAR_LIKE</td><td>5569760288635073792</td></tr>\n",
       "<tr><td>WD</td><td>5620763437599189376</td></tr>\n",
       "<tr><td>SOLAR_LIKE</td><td>5768215780897748736</td></tr>\n",
       "<tr><td>SOLAR_LIKE</td><td>5768263884531936256</td></tr>\n",
       "<tr><td>ECL</td><td>5793290899490805888</td></tr>\n",
       "<tr><td>SOLAR_LIKE</td><td>6344155124169760896</td></tr>\n",
       "<tr><td>SOLAR_LIKE</td><td>6355427660974875776</td></tr>\n",
       "<tr><td>SOLAR_LIKE</td><td>6403254252120730368</td></tr>\n",
       "</table></div>"
      ],
      "text/plain": [
       "<Table length=25>\n",
       "best_class_name      source_id     \n",
       "    bytes30            int64       \n",
       "--------------- -------------------\n",
       "     SOLAR_LIKE 4699581154046524288\n",
       "     SOLAR_LIKE 4735864518071025920\n",
       "     SOLAR_LIKE 4742424071300057216\n",
       "     SOLAR_LIKE 4748331884715057280\n",
       "     SOLAR_LIKE 4783920602205336064\n",
       "     SOLAR_LIKE 4799017893287406336\n",
       "             RS 4802947444765742848\n",
       "     SOLAR_LIKE 4837622639891346048\n",
       "     SOLAR_LIKE 4978872431946648192\n",
       "     SOLAR_LIKE 5085376179094311680\n",
       "     SOLAR_LIKE 5249005289084530176\n",
       "     SOLAR_LIKE 5277882523178810112\n",
       "     SOLAR_LIKE 5320197571771732480\n",
       "     SOLAR_LIKE 5328273931361720576\n",
       "     SOLAR_LIKE 5339149132208794624\n",
       "     SOLAR_LIKE 5506407837394491520\n",
       "     SOLAR_LIKE 5515089718649940480\n",
       "     SOLAR_LIKE 5569760288635073792\n",
       "             WD 5620763437599189376\n",
       "     SOLAR_LIKE 5768215780897748736\n",
       "     SOLAR_LIKE 5768263884531936256\n",
       "            ECL 5793290899490805888\n",
       "     SOLAR_LIKE 6344155124169760896\n",
       "     SOLAR_LIKE 6355427660974875776\n",
       "     SOLAR_LIKE 6403254252120730368"
      ]
     },
     "execution_count": 63,
     "metadata": {},
     "output_type": "execute_result"
    }
   ],
   "source": [
    "lcClasses = ellipsoid.varClasses(tuple(lcChoices))\n",
    "lcClasses"
   ]
  },
  {
   "cell_type": "markdown",
   "metadata": {},
   "source": [
    "Pick a desired source ID"
   ]
  },
  {
   "cell_type": "code",
   "execution_count": 64,
   "metadata": {},
   "outputs": [],
   "source": [
    "lcID = 5793290899490805888\n",
    "id_mask = stars_x['id'] == lcID"
   ]
  },
  {
   "cell_type": "markdown",
   "metadata": {},
   "source": [
    "Get the ellipsoid crossing time for the selected star, as well as the light curve information"
   ]
  },
  {
   "cell_type": "code",
   "execution_count": 65,
   "metadata": {},
   "outputs": [],
   "source": [
    "xtime = ellipsoid.xTime(c1_x[id_mask])[0]"
   ]
  },
  {
   "cell_type": "code",
   "execution_count": 66,
   "metadata": {},
   "outputs": [],
   "source": [
    "lcDict = glcDict # choose g, bp, or rp light curve\n",
    "\n",
    "lcTimes = Time(lcDict[str(lcID)]['time'].value + 2455197.5, format='jd')\n",
    "lcFlux = lcDict[str(lcID)]['flux']\n",
    "lcFerr = lcDict[str(lcID)]['flux_error']\n",
    "lcMag = lcDict[str(lcID)]['mag']\n",
    "# time offset described at https://gea.esac.esa.int/archive/documentation/GDR3/Gaia_archive/chap_datamodel/sec_dm_photometry/ssec_dm_epoch_photometry.html"
   ]
  },
  {
   "cell_type": "markdown",
   "metadata": {},
   "source": [
    "#### Plot with crossing time"
   ]
  },
  {
   "cell_type": "code",
   "execution_count": 67,
   "metadata": {},
   "outputs": [
    {
     "data": {
      "text/plain": [
       "<matplotlib.collections.PathCollection at 0x7f0d78ace590>"
      ]
     },
     "execution_count": 67,
     "metadata": {},
     "output_type": "execute_result"
    },
    {
     "data": {
      "image/png": "[encoded data removed]",
      "text/plain": [
       "<Figure size 1500x450 with 1 Axes>"
      ]
     },
     "metadata": {
      "needs_background": "light"
     },
     "output_type": "display_data"
    }
   ],
   "source": [
    "plt.figure(figsize=[10,3], dpi=150)\n",
    "\n",
    "plt.vlines(xtime, ymin=min(lcFlux.value), ymax=max(lcFlux.value))\n",
    "plt.scatter(lcTimes.value, lcFlux)"
   ]
  },
  {
   "cell_type": "markdown",
   "metadata": {},
   "source": [
    "All the above plotting can be done with the ```plotLC``` function:"
   ]
  },
  {
   "cell_type": "code",
   "execution_count": 68,
   "metadata": {},
   "outputs": [
    {
     "data": {
      "image/png": "[encoded data removed]",
      "text/plain": [
       "<Figure size 1200x900 with 3 Axes>"
      ]
     },
     "metadata": {
      "needs_background": "light"
     },
     "output_type": "display_data"
    }
   ],
   "source": [
    "ellipsoid.plotLC(str(lcID), c1_x[id_mask], stars_x[id_mask], glcDict, bplcDict, rplcDict, y='flux')\n",
    "\n",
    "plt.savefig('../light_curves', transparent=False, facecolor='white')"
   ]
  },
  {
   "cell_type": "code",
   "execution_count": null,
   "metadata": {},
   "outputs": [],
   "source": []
  }
 ],
 "metadata": {
  "kernelspec": {
   "display_name": "Python 3 (ipykernel)",
   "language": "python",
   "name": "python3"
  },
  "language_info": {
   "codemirror_mode": {
    "name": "ipython",
    "version": 3
   },
   "file_extension": ".py",
   "mimetype": "text/x-python",
   "name": "python",
   "nbconvert_exporter": "python",
   "pygments_lexer": "ipython3",
   "version": "3.7.6"
  },
  "vscode": {
   "interpreter": {
    "hash": "fb6b80a54a3eccef7ea4de141fea25c048297dd5c22e4be56c6305585d3ad9de"
   }
  }
 },
 "nbformat": 4,
 "nbformat_minor": 2
}
